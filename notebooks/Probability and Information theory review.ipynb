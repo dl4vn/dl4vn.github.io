{
 "cells": [
  {
   "cell_type": "markdown",
   "metadata": {},
   "source": [
    "# A review of probability and information theory for deep learning\n",
    "*~ based on Chapter 3, Deep Learning by Ian Goodfellow et. al.*\n",
    "\n",
    "This note provides a quick glance to probability and information theory in their relations to deep learning. In particular, their theoretical roles, some common concepts and definitions as well as pointer to some futher readings.\n",
    "\n",
    "**Probability theory** defines a set of rules for deriving uncertain statements and reason in presence of uncertainty.  In the context of machine learning, its laws instruct how the AI systems should reason and behave. Thus, probability theory provides a theoretical framework for designing and reasoning about AI systems.\n",
    "\n",
    "**Information theory**, on the other hand, allows us to quantify the amount of uncertainty in a probability distribution. **TODO:** ?Measure informative? Generalization?"
   ]
  },
  {
   "cell_type": "markdown",
   "metadata": {},
   "source": [
    "## 1 Probability theory\n",
    "Motivations\n",
    "- represent simple but uncertain rules which are better than a complex but certain one e.g. \"Most birds fly\" vs. \"Birds ﬂy, except for very young birds that have not yet learned toﬂy, sick or injured birds that have lost the ability to ﬂy...\"\n",
    "- represent and reason about qualitative levels of certainty (degree of belief)\n",
    "- extend logic to deal with uncertainty"
   ]
  },
  {
   "cell_type": "markdown",
   "metadata": {},
   "source": [
    "### 1.1 Definitions\n",
    "**Probability Mass Function (PMF)** describes a probability distribution over discrete random variables $X$, denoted $P(X)$.\n",
    "- domain of $P$ is set of all possible states of $X$\n",
    "- $\\forall x \\in X, 0 \\leq P(x) \\leq 1$\n",
    "- $\\sum_{x \\in X} P(x) = 1$\n",
    "\n",
    "**Probability Density Function (PDF)** describes a probability distribution over continuous random variables $X$, denoted $p(X)$.\n",
    "- domain of $p$ is set of all possible states of $X$\n",
    "- $\\forall x \\in X, p(x) \\geq 0$\n",
    "- $\\int p(x) dx = 1$\n",
    "\n",
    "**Marginal probability** is the probability distribution over the subset of random variables e.g. given the joint distribution $P(x, y)$, we usually interest in the marginal probability $P(x)$\n",
    "- sum rule $\\forall x \\in X, P(X=x) = \\sum_{y} P(X=x, Y=y)$\n",
    "\n",
    "**Conditional probability** is the probability of some event, given that some other event has happened\n",
    "- $P(Y=y \\mid X=x) = \\frac{P(Y=y, X=x)}{P(X=x)}$\n",
    "\n",
    "**Chain rule of conditional probabilities**\n",
    "- $P(x^{(1)},...,x^{(n)}) = P(x^{(1)}) \\prod_{i=2}^{n} P(x^{(i)} \\mid x^{(1)},...,x^{(i-1)})$\n",
    "\n",
    "**Expectation (expected value)** is the average or mean value that $f$ takes on when $x$ is drawn from $P$\n",
    "- $\\mathbb{E}_{x \\sim P}[f(x)] = \\sum_{x}P(x)f(x)$\n",
    "\n",
    "**Variance** measures how much the values of $f(x)$ vary as we sample diﬀerent values of $x$ from P\n",
    "- $Var(f(x)) = \\mathbb{E}[(f(x) - \\mathbb{E}[f(x)])^{2}]$\n",
    "\n",
    "**Covariance** describes how much two values are linearly related to each other\n",
    "- $Cov(f(x), g(y)) = \\mathbb{E}[(f(x) - \\mathbb{E}[f(x)])(g(y) - \\mathbb{E}[g(y)])]$"
   ]
  },
  {
   "cell_type": "markdown",
   "metadata": {},
   "source": [
    "## Further reading\n",
    "- Probability theory http://www.med.mcgill.ca/epidemiology/hanley/bios601/GaussianModel/JaynesProbabilityTheory.pdf\n",
    "- Frequentist and Bayesian probability https://core.ac.uk/download/pdf/7048428.pdf"
   ]
  }
 ],
 "metadata": {
  "anaconda-cloud": {},
  "kernelspec": {
   "display_name": "Python [conda root]",
   "language": "python",
   "name": "conda-root-py"
  },
  "language_info": {
   "codemirror_mode": {
    "name": "ipython",
    "version": 2
   },
   "file_extension": ".py",
   "mimetype": "text/x-python",
   "name": "python",
   "nbconvert_exporter": "python",
   "pygments_lexer": "ipython2",
   "version": "2.7.12"
  }
 },
 "nbformat": 4,
 "nbformat_minor": 1
}
